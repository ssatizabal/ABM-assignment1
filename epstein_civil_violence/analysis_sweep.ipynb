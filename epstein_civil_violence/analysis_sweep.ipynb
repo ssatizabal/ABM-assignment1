{
 "cells": [
  {
   "cell_type": "code",
   "execution_count": 1,
   "metadata": {},
   "outputs": [
    {
     "name": "stderr",
     "output_type": "stream",
     "text": [
      "/Users/santiagosatizabal/anaconda3/lib/python3.10/site-packages/pandas/core/arrays/masked.py:60: UserWarning: Pandas requires version '1.3.6' or newer of 'bottleneck' (version '1.3.5' currently installed).\n",
      "  from pandas.core import (\n"
     ]
    }
   ],
   "source": [
    "import matplotlib.pyplot as plt\n",
    "\n",
    "%matplotlib inline\n",
    "\n",
    "from epstein_civil_violence.model import EpsteinCivilViolence"
   ]
  },
  {
   "cell_type": "code",
   "execution_count": null,
   "metadata": {},
   "outputs": [],
   "source": [
    "\n",
    "from mesa import batch_run\n",
    "import numpy as np\n",
    "import pandas as pd\n",
    "\n",
    "# NOTE: You do not need this as a separate file BUT it can be nice to track\n",
    "# can also call the file and it makes things a little cleaner as it runs\n",
    "\n",
    "# Here you will have elements that you want to sweep, eg:\n",
    "# parameters that will remain constant\n",
    "# parameters you want to vary\n",
    "parameters = {\"height\": 40,\n",
    "              \"width\": 40,\n",
    "              \"density\": 0.8,\n",
    "              \"minority_pc\": np.linspace(0,0.5, 6),\n",
    "              \"homophily\": range(3,6,1)} \n",
    "\n",
    "    def __init__(\n",
    "        self,\n",
    "        height=20,\n",
    "        width=20,\n",
    "        homophily=3,\n",
    "        radius=1,\n",
    "        density=0.8,\n",
    "        minority_pc=0.7,\n",
    "        seed= None,\n",
    "    ):\n",
    "\n",
    "model = EpsteinCivilViolence(\n",
    "    height=40,\n",
    "    width=40,\n",
    "    citizen_density=0.7,\n",
    "    cop_density=0.074,\n",
    "    citizen_vision=3,\n",
    "    cop_vision=8,\n",
    "    legitimacy=0.8,\n",
    "    max_jail_term=1000,\n",
    "    active_threshold=0.1,\n",
    "    arrest_prob_constant=2.3,\n",
    "    movement=True,\n",
    "    max_iters=200,\n",
    ")  # cap the number of steps the model takes\n",
    "model.run_model()\n",
    "\n",
    "    # def __init__(\n",
    "    #     self,\n",
    "    #     width=40,\n",
    "    #     height=40,\n",
    "    #     citizen_density=0.7,\n",
    "    #     cop_density=0.074,\n",
    "    #     citizen_vision=7,\n",
    "    #     cop_vision=7,\n",
    "    #     legitimacy=0.8,\n",
    "    #     max_jail_term=1000,\n",
    "    #     active_threshold=0.1,\n",
    "    #     arrest_prob_constant=2.3,\n",
    "    #     movement=True,\n",
    "    #     max_iters=1000,\n",
    "    # )\n",
    "\n",
    "# what to run and what to collect\n",
    "# iterations is how many runs per parameter value\n",
    "# max_steps is how long to run the model\n",
    "results = batch_run(Schelling, \n",
    "                    parameters,\n",
    "                    iterations=50,  \n",
    "                    max_steps=30, \n",
    "                    data_collection_period = 10) #how often do you want to pull the data"
   ]
  }
 ],
 "metadata": {
  "kernelspec": {
   "display_name": "base",
   "language": "python",
   "name": "python3"
  },
  "language_info": {
   "codemirror_mode": {
    "name": "ipython",
    "version": 3
   },
   "file_extension": ".py",
   "mimetype": "text/x-python",
   "name": "python",
   "nbconvert_exporter": "python",
   "pygments_lexer": "ipython3",
   "version": "3.10.9"
  }
 },
 "nbformat": 4,
 "nbformat_minor": 2
}
